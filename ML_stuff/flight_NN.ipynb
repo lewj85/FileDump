{
 "cells": [
  {
   "cell_type": "code",
   "execution_count": 1,
   "metadata": {},
   "outputs": [],
   "source": [
    "def load_data(filename):\n",
    "    \"\"\"\n",
    "    Opens file and loads raw training data\n",
    "    \"\"\"\n",
    "    # TODO\n",
    "    return raw_data\n"
   ]
  },
  {
   "cell_type": "code",
   "execution_count": null,
   "metadata": {},
   "outputs": [],
   "source": [
    "def prep_data(raw_data):\n",
    "    \"\"\"\n",
    "    Returns data and labels after dimensionality reduction\n",
    "    \"\"\"\n",
    "    # TODO\n",
    "    return data, labels\n"
   ]
  },
  {
   "cell_type": "code",
   "execution_count": null,
   "metadata": {},
   "outputs": [],
   "source": [
    "def build_model():\n",
    "    \"\"\"\n",
    "    Builds and returns the model\n",
    "    \"\"\"\n",
    "    # TODO\n",
    "    return model\n"
   ]
  },
  {
   "cell_type": "code",
   "execution_count": null,
   "metadata": {},
   "outputs": [],
   "source": [
    "def train_model(model, data, labels, epochs=10, batch_size=10):\n",
    "    \"\"\"\n",
    "    Trains data, labels on model and prints mean squared error\n",
    "    \"\"\"\n",
    "    # TODO\n"
   ]
  },
  {
   "cell_type": "code",
   "execution_count": null,
   "metadata": {},
   "outputs": [],
   "source": [
    "def test_model(data_test, labels_test):\n",
    "    \"\"\"\n",
    "    Passes test data to model and saves predictions to file\n",
    "    Format of data written to file: \n",
    "    Id,Delay\n",
    "    54,-10\n",
    "    122,15\n",
    "    \"\"\"\n",
    "    # TODO\n"
   ]
  },
  {
   "cell_type": "code",
   "execution_count": null,
   "metadata": {},
   "outputs": [],
   "source": [
    "def main():\n",
    "    \n",
    "    filename_train = \n",
    "    filename_test = \n",
    "    \n",
    "    raw_train_data = load_data(filename)\n",
    "    raw_test_data = load_data(filename)\n",
    "    \n",
    "    data_train, labels_train = prep_data(raw_train_data)\n",
    "    data_test, labels_test = prep_data(raw_test_data)\n",
    "    \n",
    "    model = build_model()\n",
    "    \n",
    "    train_model(model, data_train, labels_train)\n",
    "    \n",
    "    test_model(data_test, labels_test)\n",
    "\n",
    "\n",
    "if __name__ == '__main__':\n",
    "    main()\n"
   ]
  }
 ],
 "metadata": {
  "kernelspec": {
   "display_name": "Python 3",
   "language": "python",
   "name": "python3"
  },
  "language_info": {
   "codemirror_mode": {
    "name": "ipython",
    "version": 3
   },
   "file_extension": ".py",
   "mimetype": "text/x-python",
   "name": "python",
   "nbconvert_exporter": "python",
   "pygments_lexer": "ipython3",
   "version": "3.6.4"
  }
 },
 "nbformat": 4,
 "nbformat_minor": 2
}
